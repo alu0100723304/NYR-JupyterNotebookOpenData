{
 "cells": [
  {
   "cell_type": "markdown",
   "metadata": {},
   "source": [
    "# Práctica de Normativa y Regulación\n",
    "El desarrollo de esta práctica consiste en utilizar al menos dos datasets, o conjuntos, para hacer uso de datos abiertos (Open Data).\n",
    "\n",
    "Concretamente los Datasets que se van a utilizar son:\n",
    "* [Paradas del Bus Turístico CSV](http://opendatacanarias.es/datos/dataset/ayuntamiento-de-santa-cruz-de-tenerife-paradas-del-bus-turistico/resource/7132b5e1-59bd-425e-8294-37aa593027f7)\n",
    "    * ** Resumen:** Conjunto de datos que representa la localización aproximada de las paradas de guaguas en Santa Cruz de Tenerife\n",
    "    * ** Última actualización:** Febrero 25, 2016\n",
    "    * ** Creado:** Marzo 2, 2016\n",
    "    * ** Formato:** CSV\n",
    "    * ** Licencia: ** [Creative Commons Attribution](http://opendefinition.org/licenses/cc-by/)\n",
    "    * ** Estado:** Activo\n",
    "    * ** Autor:** Desconocido\n",
    "    * ** Versión:** Desconocida\n",
    "    * ** Idioma:** Español\n",
    "    * ** Estructura:**\n",
    "        - GEOCODIGO_NOMBRE (Identificación de la parada)\n",
    "        - PARADA (Número de parada para etiquetas)\n",
    "        - UTM_X y UTM_Y (Coordenadas UTM)\n",
    "        - GRAD_X y GRAD_Y (Coordenadas decimales)\n",
    "    * ** Rating:** ★★★\n",
    "    \n",
    "\n",
    "* [Hoteles CSV](http://www.taro.ull.es/datos/fr/dataset/ayuntamiento-de-santa-cruz-de-tenerife-hoteles/resource/1116c8fc-55cb-449b-8dce-60b12d7dd14d?inner_span=True)\n",
    "    * ** Resumen:** Conjunto de datos que representa la localización aproximada de los hoteles en Santa Cruz de Tenerife.\n",
    "    * ** Última actualización:** Junio 22, 2015\n",
    "    * ** Creado:** Febrero 18, 2015\n",
    "    * ** Formato:** CSV\n",
    "    * ** Licencia: ** [Creative Commons Attribution](http://opendefinition.org/licenses/cc-by/)\n",
    "    * ** Estado:** Activo\n",
    "    * ** Autor:** Desconocido\n",
    "    * ** Versión:** Desconocida\n",
    "    * ** Idioma:** Español\n",
    "    * ** Estructura:**\n",
    "        - TIPO (Descripción de instalaciones turísticas)\n",
    "        - DIRECCION (Calle y número)\n",
    "        - UTM_X, UTM_Y (Coordenadas UTM)\n",
    "        - GRAD_X,GRAD_Y (Coordenadas decimales)\n",
    "    * ** Rating:** ★★★"
   ]
  },
  {
   "cell_type": "markdown",
   "metadata": {},
   "source": []
  },
  {
   "cell_type": "code",
   "execution_count": 92,
   "metadata": {
    "collapsed": false
   },
   "outputs": [],
   "source": [
    "# Librerías\n",
    "import pandas as pd\n",
    "import folium\n",
    "from IPython.display import HTML"
   ]
  },
  {
   "cell_type": "code",
   "execution_count": 93,
   "metadata": {
    "collapsed": false
   },
   "outputs": [],
   "source": [
    "datosParadasBus = pd.read_csv('http://www.santacruzdetenerife.es/opendata/dataset/07e107d2-209a-4bfa-862e-00fcf497ae1d/resource/7132b5e1-59bd-425e-8294-37aa593027f7/download/busturisticoparadas.csv')\n",
    "datosHoteles = pd.read_csv('http://www.santacruzdetenerife.es/opendata/dataset/3e8a104d-b0a2-439a-a738-bd044fab3809/resource/1116c8fc-55cb-449b-8dce-60b12d7dd14d/download/hoteles.csv')"
   ]
  },
  {
   "cell_type": "code",
   "execution_count": 94,
   "metadata": {
    "collapsed": false
   },
   "outputs": [],
   "source": [
    "Coordenates = [28.465971,-16.2489736]\n",
    "mapaBusParadas = folium.Map(Coordenates, tiles = 'Stamen Terrain', zoom_start = 14)\n",
    "mapaHoteles = folium.Map(Coordenates, tiles = 'Stamen Terrain', zoom_start = 14)\n",
    "mapaResultante = folium.Map(Coordenates, tiles = 'Stamen Terrain', zoom_start = 14)"
   ]
  },
  {
   "cell_type": "code",
   "execution_count": 95,
   "metadata": {
    "collapsed": false
   },
   "outputs": [],
   "source": [
    "for pb in datosParadasBus.iterrows():\n",
    "    folium.Marker(location=[pb[1][6], pb[1][5]],popup=pb[1][2], icon = folium.Icon(color = \"green\")).add_to(mapaBusParadas)\n",
    "mapaBusParadas.save('ParadaGuaguas.html')"
   ]
  },
  {
   "cell_type": "code",
   "execution_count": 96,
   "metadata": {
    "collapsed": false,
    "scrolled": true
   },
   "outputs": [
    {
     "data": {
      "text/html": [
       "<iframe src=ParadaGuaguas.html width=100% height=350></iframe>"
      ],
      "text/plain": [
       "<IPython.core.display.HTML object>"
      ]
     },
     "execution_count": 96,
     "metadata": {},
     "output_type": "execute_result"
    }
   ],
   "source": [
    "HTML('<iframe src=ParadaGuaguas.html width=100% height=350></iframe>')"
   ]
  },
  {
   "cell_type": "code",
   "execution_count": 97,
   "metadata": {
    "collapsed": false
   },
   "outputs": [],
   "source": [
    "for ht in datosHoteles.iterrows():\n",
    "    folium.Marker(location=[ht[1][9], ht[1][8]], popup = ht[1][2], icon = folium.Icon(color = \"red\",)).add_to(mapaHoteles)\n",
    "mapaHoteles.save('Hoteles.html')"
   ]
  },
  {
   "cell_type": "code",
   "execution_count": 98,
   "metadata": {
    "collapsed": false
   },
   "outputs": [
    {
     "data": {
      "text/html": [
       "<iframe src=Hoteles.html width=100% height=350></iframe>"
      ],
      "text/plain": [
       "<IPython.core.display.HTML object>"
      ]
     },
     "execution_count": 98,
     "metadata": {},
     "output_type": "execute_result"
    }
   ],
   "source": [
    "HTML('<iframe src=Hoteles.html width=100% height=350></iframe>')"
   ]
  },
  {
   "cell_type": "code",
   "execution_count": 99,
   "metadata": {
    "collapsed": true
   },
   "outputs": [],
   "source": [
    "for pb in datosParadasBus.iterrows():\n",
    "    folium.Marker(location=[pb[1][6], pb[1][5]],popup=pb[1][2], icon = folium.Icon(color = \"green\")\n",
    "                 ).add_to(mapaResultante)\n",
    "for ht in datosHoteles.iterrows():\n",
    "    folium.Marker(location=[ht[1][9], ht[1][8]], popup = ht[1][2], icon = folium.Icon(color = \"red\")).add_to(mapaResultante)\n",
    "mapaResultante.save('GuaguasNearToHoteles.html')"
   ]
  },
  {
   "cell_type": "code",
   "execution_count": 100,
   "metadata": {
    "collapsed": false
   },
   "outputs": [
    {
     "data": {
      "text/html": [
       "<iframe src=GuaguasNearToHoteles.html width=100% height=350></iframe>"
      ],
      "text/plain": [
       "<IPython.core.display.HTML object>"
      ]
     },
     "execution_count": 100,
     "metadata": {},
     "output_type": "execute_result"
    }
   ],
   "source": [
    "HTML('<iframe src=GuaguasNearToHoteles.html width=100% height=350></iframe>')"
   ]
  }
 ],
 "metadata": {
  "anaconda-cloud": {},
  "kernelspec": {
   "display_name": "Python [conda root]",
   "language": "python",
   "name": "conda-root-py"
  },
  "language_info": {
   "codemirror_mode": {
    "name": "ipython",
    "version": 3
   },
   "file_extension": ".py",
   "mimetype": "text/x-python",
   "name": "python",
   "nbconvert_exporter": "python",
   "pygments_lexer": "ipython3",
   "version": "3.5.2"
  }
 },
 "nbformat": 4,
 "nbformat_minor": 1
}
