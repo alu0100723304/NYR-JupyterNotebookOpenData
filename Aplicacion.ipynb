{
 "cells": [
  {
   "cell_type": "markdown",
   "metadata": {},
   "source": [
    "# Práctica de Normativa y Regulación"
   ]
  },
  {
   "cell_type": "code",
   "execution_count": null,
   "metadata": {
    "collapsed": false
   },
   "outputs": [],
   "source": [
    "# Librerías\n",
    "import pandas as pd\n",
    "import folium\n",
    "#import json\n",
    "#import requests\n",
    "# import matplotlib.cm as cm\n",
    "# from IPython.display import HTML\n",
    "# from matplotlib.colors import Normalize, rgb2hex"
   ]
  },
  {
   "cell_type": "code",
   "execution_count": null,
   "metadata": {
    "collapsed": false
   },
   "outputs": [],
   "source": [
    "datosParadasBus = pd.read_csv('http://www.santacruzdetenerife.es/opendata/dataset/07e107d2-209a-4bfa-862e-00fcf497ae1d/resource/7132b5e1-59bd-425e-8294-37aa593027f7/download/busturisticoparadas.csv')\n",
    "datosAlojamientos = pd.read_csv('http://www.tenerifedata.com/dataset/54c130a0-935a-4887-a963-35670f9091ec/resource/8e0664aa-e67d-47e0-adec-54b37fd21e38/download/paradas.csv')"
   ]
  },
  {
   "cell_type": "code",
   "execution_count": null,
   "metadata": {
    "collapsed": false
   },
   "outputs": [],
   "source": [
    "mapaBusParadas = folium.Map(location = [28.465971,-16.2489736], tiles = 'Stamen Terrain', zoom_start = 14)\n",
    "mapaAlojamientos = folium.Map(location = [28.465971,-16.2489736], tiles = 'Stamen Terrain', zoom_start = 14)"
   ]
  },
  {
   "cell_type": "code",
   "execution_count": null,
   "metadata": {
    "collapsed": true
   },
   "outputs": [],
   "source": [
    "for pb in datosParadasBus.iterrows():\n",
    "    folium.Marker(location=[pb[1]['GRAD_Y'], pb[1]['GRAD_X']],popup=pb[1]['NOMBRE'], icon = folium.Icon(color =\"green\")\n",
    "                 ).add_to(mapaBusParadas)\n",
    "mapaBusParadas.save('ParadaGuaguas.html')"
   ]
  },
  {
   "cell_type": "code",
   "execution_count": null,
   "metadata": {
    "collapsed": false,
    "scrolled": true
   },
   "outputs": [],
   "source": [
    "HTML('<iframe src=ParadaGuaguas.html width=100% height=350></iframe>')"
   ]
  },
  {
   "cell_type": "code",
   "execution_count": null,
   "metadata": {
    "collapsed": false
   },
   "outputs": [],
   "source": [
    "for al in datosAlojamientos.iterrows():\n",
    "    folium.Marker(location=[al[1][0], al[1][1]], popup = al[1][3], icon = folium.Icon(color = \"red\")).add_to(mapaAlojamientos)\n",
    "mapaAlojamientos.save('Alojamientos.html')"
   ]
  },
  {
   "cell_type": "code",
   "execution_count": null,
   "metadata": {
    "collapsed": false
   },
   "outputs": [],
   "source": [
    "HTML('<iframe src=Alojamientos.html width=100% height=350></iframe>')"
   ]
  }
 ],
 "metadata": {
  "anaconda-cloud": {},
  "kernelspec": {
   "display_name": "Python [conda root]",
   "language": "python",
   "name": "conda-root-py"
  },
  "language_info": {
   "codemirror_mode": {
    "name": "ipython",
    "version": 3
   },
   "file_extension": ".py",
   "mimetype": "text/x-python",
   "name": "python",
   "nbconvert_exporter": "python",
   "pygments_lexer": "ipython3",
   "version": "3.5.2"
  }
 },
 "nbformat": 4,
 "nbformat_minor": 1
}
