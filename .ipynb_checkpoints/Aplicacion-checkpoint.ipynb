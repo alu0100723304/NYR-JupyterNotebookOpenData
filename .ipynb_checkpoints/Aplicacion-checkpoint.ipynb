{
 "cells": [
  {
   "cell_type": "markdown",
   "metadata": {},
   "source": [
    "# Práctica de Normativa y Regulación"
   ]
  },
  {
   "cell_type": "code",
   "execution_count": 83,
   "metadata": {
    "collapsed": false
   },
   "outputs": [],
   "source": [
    "# Librerías\n",
    "import pandas as pd\n",
    "import folium\n",
    "from IPython.display import HTML"
   ]
  },
  {
   "cell_type": "code",
   "execution_count": 84,
   "metadata": {
    "collapsed": false
   },
   "outputs": [],
   "source": [
    "datosParadasBus = pd.read_csv('http://www.santacruzdetenerife.es/opendata/dataset/07e107d2-209a-4bfa-862e-00fcf497ae1d/resource/7132b5e1-59bd-425e-8294-37aa593027f7/download/busturisticoparadas.csv')\n",
    "datosHoteles = pd.read_csv('http://www.santacruzdetenerife.es/opendata/dataset/3e8a104d-b0a2-439a-a738-bd044fab3809/resource/1116c8fc-55cb-449b-8dce-60b12d7dd14d/download/hoteles.csv')"
   ]
  },
  {
   "cell_type": "code",
   "execution_count": 85,
   "metadata": {
    "collapsed": false
   },
   "outputs": [],
   "source": [
    "Coordenates = [28.465971,-16.2489736]\n",
    "mapaBusParadas = folium.Map(Coordenates, tiles = 'Stamen Terrain', zoom_start = 14)\n",
    "mapaHoteles = folium.Map(Coordenates, tiles = 'Stamen Terrain', zoom_start = 14)\n",
    "mapaResultante = folium.Map(Coordenates, tiles = 'Stamen Terrain', zoom_start = 14)"
   ]
  },
  {
   "cell_type": "code",
   "execution_count": 86,
   "metadata": {
    "collapsed": false
   },
   "outputs": [],
   "source": [
    "for pb in datosParadasBus.iterrows():\n",
    "    folium.Marker(location=[pb[1][6], pb[1][5]],popup=pb[1][2], icon = folium.Icon(color = \"green\")).add_to(mapaBusParadas)\n",
    "mapaBusParadas.save('ParadaGuaguas.html')"
   ]
  },
  {
   "cell_type": "code",
   "execution_count": 87,
   "metadata": {
    "collapsed": false,
    "scrolled": true
   },
   "outputs": [
    {
     "data": {
      "text/html": [
       "<iframe src=ParadaGuaguas.html width=100% height=350></iframe>"
      ],
      "text/plain": [
       "<IPython.core.display.HTML object>"
      ]
     },
     "execution_count": 87,
     "metadata": {},
     "output_type": "execute_result"
    }
   ],
   "source": [
    "HTML('<iframe src=ParadaGuaguas.html width=100% height=350></iframe>')"
   ]
  },
  {
   "cell_type": "code",
   "execution_count": 88,
   "metadata": {
    "collapsed": false
   },
   "outputs": [],
   "source": [
    "for ht in datosHoteles.iterrows():\n",
    "    folium.Marker(location=[ht[1][9], ht[1][8]], popup = ht[1][2], icon = folium.Icon(color = \"red\",)).add_to(mapaHoteles)\n",
    "mapaHoteles.save('Hoteles.html')"
   ]
  },
  {
   "cell_type": "code",
   "execution_count": 89,
   "metadata": {
    "collapsed": false
   },
   "outputs": [
    {
     "data": {
      "text/html": [
       "<iframe src=Hoteles.html width=100% height=350></iframe>"
      ],
      "text/plain": [
       "<IPython.core.display.HTML object>"
      ]
     },
     "execution_count": 89,
     "metadata": {},
     "output_type": "execute_result"
    }
   ],
   "source": [
    "HTML('<iframe src=Hoteles.html width=100% height=350></iframe>')"
   ]
  },
  {
   "cell_type": "code",
   "execution_count": 90,
   "metadata": {
    "collapsed": true
   },
   "outputs": [],
   "source": [
    "for pb in datosParadasBus.iterrows():\n",
    "    folium.Marker(location=[pb[1][6], pb[1][5]],popup=pb[1][2], icon = folium.Icon(color = \"green\")\n",
    "                 ).add_to(mapaResultante)\n",
    "for ht in datosHoteles.iterrows():\n",
    "    folium.Marker(location=[ht[1][9], ht[1][8]], popup = ht[1][2], icon = folium.Icon(color = \"red\")).add_to(mapaResultante)\n",
    "mapaResultante.save('GuaguasNearToHoteles.html')"
   ]
  },
  {
   "cell_type": "code",
   "execution_count": 91,
   "metadata": {
    "collapsed": false
   },
   "outputs": [
    {
     "data": {
      "text/html": [
       "<iframe src=GuaguasNearToHoteles.html width=100% height=350></iframe>"
      ],
      "text/plain": [
       "<IPython.core.display.HTML object>"
      ]
     },
     "execution_count": 91,
     "metadata": {},
     "output_type": "execute_result"
    }
   ],
   "source": [
    "HTML('<iframe src=GuaguasNearToHoteles.html width=100% height=350></iframe>')"
   ]
  }
 ],
 "metadata": {
  "anaconda-cloud": {},
  "kernelspec": {
   "display_name": "Python [conda root]",
   "language": "python",
   "name": "conda-root-py"
  },
  "language_info": {
   "codemirror_mode": {
    "name": "ipython",
    "version": 3
   },
   "file_extension": ".py",
   "mimetype": "text/x-python",
   "name": "python",
   "nbconvert_exporter": "python",
   "pygments_lexer": "ipython3",
   "version": "3.5.2"
  }
 },
 "nbformat": 4,
 "nbformat_minor": 1
}
